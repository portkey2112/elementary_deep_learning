{
  "nbformat": 4,
  "nbformat_minor": 0,
  "metadata": {
    "colab": {
      "name": "mnist_keras.ipynb",
      "provenance": [],
      "authorship_tag": "ABX9TyMqaOAgEC2dGO3JQ28JO2PY",
      "include_colab_link": true
    },
    "kernelspec": {
      "name": "python3",
      "display_name": "Python 3"
    }
  },
  "cells": [
    {
      "cell_type": "markdown",
      "metadata": {
        "id": "view-in-github",
        "colab_type": "text"
      },
      "source": [
        "<a href=\"https://colab.research.google.com/github/portkey2112/machine_learning/blob/master/mnist_keras.ipynb\" target=\"_parent\"><img src=\"https://colab.research.google.com/assets/colab-badge.svg\" alt=\"Open In Colab\"/></a>"
      ]
    },
    {
      "cell_type": "code",
      "metadata": {
        "id": "yIzleNpuo1G5"
      },
      "source": [
        "import tensorflow as tf\n",
        "import numpy as np\n",
        "from sklearn import datasets\n",
        "import matplotlib.pyplot as plt\n",
        "#from sklearn.preprocessing import OneHotEncoder\n",
        "from tensorflow import keras"
      ],
      "execution_count": 53,
      "outputs": []
    },
    {
      "cell_type": "code",
      "metadata": {
        "id": "gDmBfBj2pAKn",
        "outputId": "66794405-6232-4700-deb7-93c4db11f8ca",
        "colab": {
          "base_uri": "https://localhost:8080/",
          "height": 35
        }
      },
      "source": [
        "tf.__version__"
      ],
      "execution_count": 6,
      "outputs": [
        {
          "output_type": "execute_result",
          "data": {
            "application/vnd.google.colaboratory.intrinsic+json": {
              "type": "string"
            },
            "text/plain": [
              "'2.3.0'"
            ]
          },
          "metadata": {
            "tags": []
          },
          "execution_count": 6
        }
      ]
    },
    {
      "cell_type": "code",
      "metadata": {
        "id": "E3CaVpjbpFiW"
      },
      "source": [
        "X, y = datasets.fetch_openml('mnist_784', version=1, return_X_y = True)"
      ],
      "execution_count": 7,
      "outputs": []
    },
    {
      "cell_type": "code",
      "metadata": {
        "id": "4F7Mq8xUpXfa",
        "outputId": "cf332a30-14fa-492a-81d8-3b141aefffdf",
        "colab": {
          "base_uri": "https://localhost:8080/",
          "height": 35
        }
      },
      "source": [
        "X.shape"
      ],
      "execution_count": 8,
      "outputs": [
        {
          "output_type": "execute_result",
          "data": {
            "text/plain": [
              "(70000, 784)"
            ]
          },
          "metadata": {
            "tags": []
          },
          "execution_count": 8
        }
      ]
    },
    {
      "cell_type": "code",
      "metadata": {
        "id": "6oNX79TjqgDV",
        "outputId": "d3d7ea1e-597f-45c7-f688-615720cc96ff",
        "colab": {
          "base_uri": "https://localhost:8080/",
          "height": 35
        }
      },
      "source": [
        "y.shape"
      ],
      "execution_count": 9,
      "outputs": [
        {
          "output_type": "execute_result",
          "data": {
            "text/plain": [
              "(70000,)"
            ]
          },
          "metadata": {
            "tags": []
          },
          "execution_count": 9
        }
      ]
    },
    {
      "cell_type": "code",
      "metadata": {
        "id": "0n-nAMP6q5c_"
      },
      "source": [
        "y = y.reshape(70000, 1)"
      ],
      "execution_count": 10,
      "outputs": []
    },
    {
      "cell_type": "code",
      "metadata": {
        "id": "hnSxvfZwrASb",
        "outputId": "1e5d769d-bc49-4057-a160-eb12a1a7fdf6",
        "colab": {
          "base_uri": "https://localhost:8080/",
          "height": 35
        }
      },
      "source": [
        "y.shape"
      ],
      "execution_count": 11,
      "outputs": [
        {
          "output_type": "execute_result",
          "data": {
            "text/plain": [
              "(70000, 1)"
            ]
          },
          "metadata": {
            "tags": []
          },
          "execution_count": 11
        }
      ]
    },
    {
      "cell_type": "code",
      "metadata": {
        "id": "EufFGohTrBhH"
      },
      "source": [
        "X /= 255."
      ],
      "execution_count": 12,
      "outputs": []
    },
    {
      "cell_type": "code",
      "metadata": {
        "id": "sFHPLx7krJ9U",
        "outputId": "7f585781-38a5-43cc-8b46-bd1e6cc02b6e",
        "colab": {
          "base_uri": "https://localhost:8080/",
          "height": 283
        }
      },
      "source": [
        "plt.imshow(X[0].reshape(28, 28))\n",
        "y[0][0]"
      ],
      "execution_count": 13,
      "outputs": [
        {
          "output_type": "execute_result",
          "data": {
            "application/vnd.google.colaboratory.intrinsic+json": {
              "type": "string"
            },
            "text/plain": [
              "'5'"
            ]
          },
          "metadata": {
            "tags": []
          },
          "execution_count": 13
        },
        {
          "output_type": "display_data",
          "data": {
            "image/png": "[encoded data removed]",
            "text/plain": [
              "<Figure size 432x288 with 1 Axes>"
            ]
          },
          "metadata": {
            "tags": [],
            "needs_background": "light"
          }
        }
      ]
    },
    {
      "cell_type": "code",
      "metadata": {
        "id": "bkWTuG4frWa3"
      },
      "source": [
        "y = y.astype(np.int32)"
      ],
      "execution_count": 14,
      "outputs": []
    },
    {
      "cell_type": "code",
      "metadata": {
        "id": "AIiOxywDraEH",
        "outputId": "7fbe65ea-3c57-4df0-bcdd-8353509924f9",
        "colab": {
          "base_uri": "https://localhost:8080/",
          "height": 35
        }
      },
      "source": [
        "y[0][0]"
      ],
      "execution_count": 15,
      "outputs": [
        {
          "output_type": "execute_result",
          "data": {
            "text/plain": [
              "5"
            ]
          },
          "metadata": {
            "tags": []
          },
          "execution_count": 15
        }
      ]
    },
    {
      "cell_type": "code",
      "metadata": {
        "id": "loe7_2SkrqHX"
      },
      "source": [
        "def one_hot_encode(X, Y, num_classes):\n",
        "  m = X.shape[0]\n",
        "  one_hot_Y = np.zeros((m, num_classes))\n",
        "  one_hot_Y[np.arange(0, m), Y] = 1\n",
        "  return one_hot_Y"
      ],
      "execution_count": 42,
      "outputs": []
    },
    {
      "cell_type": "code",
      "metadata": {
        "id": "rEo3-14E0AV5",
        "outputId": "367e2361-76d2-40f2-c696-f20a27172db2",
        "colab": {
          "base_uri": "https://localhost:8080/",
          "height": 143
        }
      },
      "source": [
        "y"
      ],
      "execution_count": 43,
      "outputs": [
        {
          "output_type": "execute_result",
          "data": {
            "text/plain": [
              "array([[5],\n",
              "       [0],\n",
              "       [4],\n",
              "       ...,\n",
              "       [4],\n",
              "       [5],\n",
              "       [6]], dtype=int32)"
            ]
          },
          "metadata": {
            "tags": []
          },
          "execution_count": 43
        }
      ]
    },
    {
      "cell_type": "code",
      "metadata": {
        "id": "g-yxbNf50ObN"
      },
      "source": [
        "one_hot_Y = one_hot_encode(X, y.reshape(y.shape[0],), num_classes=10)"
      ],
      "execution_count": 44,
      "outputs": []
    },
    {
      "cell_type": "code",
      "metadata": {
        "id": "GqVIaHdT0lpb",
        "outputId": "ba40c7a5-8d8c-43e5-cebf-c442350af590",
        "colab": {
          "base_uri": "https://localhost:8080/",
          "height": 143
        }
      },
      "source": [
        "one_hot_Y"
      ],
      "execution_count": 47,
      "outputs": [
        {
          "output_type": "execute_result",
          "data": {
            "text/plain": [
              "array([[0., 0., 0., ..., 0., 0., 0.],\n",
              "       [1., 0., 0., ..., 0., 0., 0.],\n",
              "       [0., 0., 0., ..., 0., 0., 0.],\n",
              "       ...,\n",
              "       [0., 0., 0., ..., 0., 0., 0.],\n",
              "       [0., 0., 0., ..., 0., 0., 0.],\n",
              "       [0., 0., 0., ..., 0., 0., 0.]])"
            ]
          },
          "metadata": {
            "tags": []
          },
          "execution_count": 47
        }
      ]
    },
    {
      "cell_type": "code",
      "metadata": {
        "id": "UkA3BhAx1OcC",
        "outputId": "92309af3-a6f9-4b40-f430-f3edfcc88f18",
        "colab": {
          "base_uri": "https://localhost:8080/",
          "height": 35
        }
      },
      "source": [
        "one_hot_Y.shape"
      ],
      "execution_count": 48,
      "outputs": [
        {
          "output_type": "execute_result",
          "data": {
            "text/plain": [
              "(70000, 10)"
            ]
          },
          "metadata": {
            "tags": []
          },
          "execution_count": 48
        }
      ]
    },
    {
      "cell_type": "code",
      "metadata": {
        "id": "7fLdAwHF25kq"
      },
      "source": [
        "Y = one_hot_Y\n",
        "\n",
        "X_train = X[0:56000, :]\n",
        "Y_train = Y[0:56000, :]\n",
        "\n",
        "#X_dev = X[42000:56000, :]\n",
        "#Y_dev = Y[42000:56000, :]\n",
        "\n",
        "X_test = X[56000:, :]\n",
        "Y_test = Y[56000:, :]"
      ],
      "execution_count": 60,
      "outputs": []
    },
    {
      "cell_type": "code",
      "metadata": {
        "id": "lQ_bUW1W3OKp",
        "outputId": "72192884-b377-4888-9761-4d2a53fcf00b",
        "colab": {
          "base_uri": "https://localhost:8080/",
          "height": 53
        }
      },
      "source": [
        "print(\"X_train.shape = \", X_train.shape)\n",
        "print(\"Y_train.shape = \", Y_train.shape)"
      ],
      "execution_count": 61,
      "outputs": [
        {
          "output_type": "stream",
          "text": [
            "X_train.shape =  (56000, 784)\n",
            "Y_train.shape =  (56000, 10)\n"
          ],
          "name": "stdout"
        }
      ]
    },
    {
      "cell_type": "code",
      "metadata": {
        "id": "74St9daa3T_z",
        "outputId": "47ce214c-2464-47ca-fb64-3f4c989d69c6",
        "colab": {
          "base_uri": "https://localhost:8080/",
          "height": 53
        }
      },
      "source": [
        "model = keras.Sequential([\n",
        "                          keras.Input(shape=(X_train.shape[1],)),\n",
        "                          keras.layers.Dense(784, activation='relu'),\n",
        "                          keras.layers.Dense(10, activation='softmax')\n",
        "])\n",
        "\n",
        "model.compile(optimizer=keras.optimizers.Adam(learning_rate=0.001), loss=keras.losses.categorical_crossentropy, metrics=['accuracy'])\n",
        "\n",
        "model.fit(x=X_train, y=Y_train, batch_size=1, epochs=1, validation_split=0.2) #20% of training set as cross-validation set."
      ],
      "execution_count": 128,
      "outputs": [
        {
          "output_type": "stream",
          "text": [
            "44800/44800 [==============================] - 131s 3ms/step - loss: 0.2516 - accuracy: 0.9304 - val_loss: 0.2235 - val_accuracy: 0.9488\n"
          ],
          "name": "stdout"
        },
        {
          "output_type": "execute_result",
          "data": {
            "text/plain": [
              "<tensorflow.python.keras.callbacks.History at 0x7fb4cb6117b8>"
            ]
          },
          "metadata": {
            "tags": []
          },
          "execution_count": 128
        }
      ]
    },
    {
      "cell_type": "code",
      "metadata": {
        "id": "e35YbjdT8pZM"
      },
      "source": [
        "def get_test_accu(X_test, Y_test):\n",
        "  Y_pred = model.predict(X_test)\n",
        "  maxx = np.max(Y_pred, axis=1)\n",
        "  maxx = maxx.reshape(maxx.shape[0], 1)\n",
        "  one_hot_pred = np.where(Y_pred==maxx, 1, 0)\n",
        "  #actual predictions for referance if required\n",
        "  pred = np.array([np.where(r == 1)[0][0] for r in one_hot_pred])\n",
        "  Y = np.array([np.where(r == 1)[0][0] for r in Y_test])\n",
        "\n",
        "  print(pred.shape)\n",
        "  print(Y.shape)\n",
        "\n",
        "  #find accuracy\n",
        "  accu = (np.sum(pred == Y)/Y_test.shape[0]) * 100\n",
        "  return accu"
      ],
      "execution_count": 129,
      "outputs": []
    },
    {
      "cell_type": "code",
      "metadata": {
        "id": "_poVhWkS8-PD",
        "outputId": "6b294726-5a10-4c60-979b-5db8e349d2b6",
        "colab": {
          "base_uri": "https://localhost:8080/",
          "height": 53
        }
      },
      "source": [
        "test_accu = get_test_accu(X_test, Y_test)"
      ],
      "execution_count": 130,
      "outputs": [
        {
          "output_type": "stream",
          "text": [
            "(14000,)\n",
            "(14000,)\n"
          ],
          "name": "stdout"
        }
      ]
    },
    {
      "cell_type": "code",
      "metadata": {
        "id": "9a0rhs_T8_8D",
        "outputId": "e7947fe2-b5e5-4493-d47a-3b002eefbdd2",
        "colab": {
          "base_uri": "https://localhost:8080/",
          "height": 35
        }
      },
      "source": [
        "test_accu"
      ],
      "execution_count": 131,
      "outputs": [
        {
          "output_type": "execute_result",
          "data": {
            "text/plain": [
              "95.87142857142858"
            ]
          },
          "metadata": {
            "tags": []
          },
          "execution_count": 131
        }
      ]
    },
    {
      "cell_type": "code",
      "metadata": {
        "id": "sbCZbICP9cRc",
        "outputId": "cd37e3ae-f0c6-4922-c5d6-c7e2e6155bc1",
        "colab": {
          "base_uri": "https://localhost:8080/",
          "height": 143
        }
      },
      "source": [
        "Y_test"
      ],
      "execution_count": 122,
      "outputs": [
        {
          "output_type": "execute_result",
          "data": {
            "text/plain": [
              "array([[0., 1., 0., ..., 0., 0., 0.],\n",
              "       [0., 0., 0., ..., 0., 1., 0.],\n",
              "       [0., 0., 0., ..., 0., 0., 0.],\n",
              "       ...,\n",
              "       [0., 0., 0., ..., 0., 0., 0.],\n",
              "       [0., 0., 0., ..., 0., 0., 0.],\n",
              "       [0., 0., 0., ..., 0., 0., 0.]])"
            ]
          },
          "metadata": {
            "tags": []
          },
          "execution_count": 122
        }
      ]
    },
    {
      "cell_type": "code",
      "metadata": {
        "id": "HYassJkD9pnz",
        "outputId": "dff28ea9-edb3-47c8-b763-b3d2161d4832",
        "colab": {
          "base_uri": "https://localhost:8080/",
          "height": 71
        }
      },
      "source": [
        "for r in Y_test:\n",
        "  x=np.where(r == 1)\n",
        "  print(x) #tuple\n",
        "  print(x[0])\n",
        "  print(x[0][0])\n",
        "  break"
      ],
      "execution_count": 126,
      "outputs": [
        {
          "output_type": "stream",
          "text": [
            "(array([1]),)\n",
            "[1]\n",
            "1\n"
          ],
          "name": "stdout"
        }
      ]
    },
    {
      "cell_type": "code",
      "metadata": {
        "id": "jgO6YuXW_mdF"
      },
      "source": [
        "#We need the label. Hence, np.where(r==1)[0][0]"
      ],
      "execution_count": 125,
      "outputs": []
    },
    {
      "cell_type": "markdown",
      "metadata": {
        "id": "zV9viwfBBHKp"
      },
      "source": [
        "Accuracies: train - 93%; Validation accuracy - 94%; Test accuracy - 95% "
      ]
    },
    {
      "cell_type": "code",
      "metadata": {
        "id": "w5q9-0bEBSNq"
      },
      "source": [
        ""
      ],
      "execution_count": null,
      "outputs": []
    }
  ]
}